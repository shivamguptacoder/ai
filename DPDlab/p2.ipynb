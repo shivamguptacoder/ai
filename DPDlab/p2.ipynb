{
 "cells": [
  {
   "cell_type": "code",
   "execution_count": 1,
   "id": "d5926c9e",
   "metadata": {},
   "outputs": [],
   "source": [
    "import pymysql\n",
    "import pymysql.cursors\n",
    "#Establishing the connection\n",
    "\n",
    "connection = pymysql.connect(host='bpfz8vv06ufsw48c4xga-mysql.services.clever-cloud.com',\n",
    "                             user='uz9woou9dyaujasp',\n",
    "                             password='gBR1RNo9i0gQUFwpwNGL',\n",
    "                             database='bpfz8vv06ufsw48c4xga',\n",
    "                             cursorclass=pymysql.cursors.DictCursor)\n",
    "\n",
    "curs=connection.cursor()\n",
    "\n",
    "connection2 = pymysql.connect(host='bplnbwn14splzds4knfx-mysql.services.clever-cloud.com',\n",
    "                             user='umugihupkobaisc7',\n",
    "                             password='DtyvWSt23HWmV4ssG4yb',\n",
    "                             database='bplnbwn14splzds4knfx',\n",
    "                             cursorclass=pymysql.cursors.DictCursor)\n",
    "\n",
    "curs2=connection2.cursor()\n"
   ]
  },
  {
   "cell_type": "code",
   "execution_count": null,
   "id": "2ee21f2e",
   "metadata": {},
   "outputs": [],
   "source": [
    "empno=input(\"Enter empno :\")\n",
    "pkey=input(\"Enter partition key :\")\n",
    "ename=input(\"Enter employname :\")\n",
    "locn=input(\"Enter location :\")\n",
    "dept=input(\"Enter department :\")\n",
    "post=input(\"Enter post :\")\n",
    "sal=input(\"Enter salary :\")\n",
    "age=input(\"Enter age :\")\n",
    "qual=input(\"Enter qualification :\")\n",
    "mbl=input(\"Enter mobile no. :\")\n",
    "email=input(\"Enter emailId :\")\n",
    "\n",
    "if(pkey==1):\n",
    "  sql = \"\"\"insert into `employee_official` (empno, partitionkey, empnm, \n",
    "                                  location, dept, post, salary)\n",
    "         values (%s, %s, %s, %s, %s, %s, %s) \n",
    "    \"\"\"\n",
    "  curs.execute(sql,(empno,pkey,ename,locn,dept,post,sal))\n",
    "  connection.commit()\n",
    "\n",
    "else : \n",
    "  sql2 = \"\"\"insert into `employee_personal` (empno, partitionkey, empnm, \n",
    "                                  age, qualification, mobile, emailid)\n",
    "         values (%s, %s, %s, %s, %s, %s, %s) \n",
    "    \"\"\"\n",
    "  curs2.execute(sql2,(empno,pkey,ename,age,qual,mbl,email))\n",
    "  connection2.commit()"
   ]
  },
  {
   "cell_type": "code",
   "execution_count": null,
   "id": "a09526ce",
   "metadata": {},
   "outputs": [],
   "source": []
  }
 ],
 "metadata": {
  "kernelspec": {
   "display_name": "Python 3 (ipykernel)",
   "language": "python",
   "name": "python3"
  },
  "language_info": {
   "codemirror_mode": {
    "name": "ipython",
    "version": 3
   },
   "file_extension": ".py",
   "mimetype": "text/x-python",
   "name": "python",
   "nbconvert_exporter": "python",
   "pygments_lexer": "ipython3",
   "version": "3.9.12"
  }
 },
 "nbformat": 4,
 "nbformat_minor": 5
}
