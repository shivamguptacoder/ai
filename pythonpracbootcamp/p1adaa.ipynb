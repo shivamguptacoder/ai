{
 "cells": [
  {
   "cell_type": "code",
   "execution_count": 1,
   "metadata": {},
   "outputs": [
    {
     "name": "stdout",
     "output_type": "stream",
     "text": [
      "Writing shivam.txt\n"
     ]
    }
   ],
   "source": [
    "%%writefile shivam.txt\n",
    "this is my new file\n",
    "lol"
   ]
  },
  {
   "cell_type": "code",
   "execution_count": 5,
   "metadata": {},
   "outputs": [
    {
     "data": {
      "text/plain": [
       "'this is my new file\\nlol\\n'"
      ]
     },
     "execution_count": 5,
     "metadata": {},
     "output_type": "execute_result"
    }
   ],
   "source": [
    "x=open('shivam.txt')\n",
    "x.read()"
   ]
  },
  {
   "cell_type": "code",
   "execution_count": 6,
   "metadata": {},
   "outputs": [
    {
     "data": {
      "text/plain": [
       "'C:\\\\Users\\\\91727\\\\pythonpracbootcamp'"
      ]
     },
     "execution_count": 6,
     "metadata": {},
     "output_type": "execute_result"
    }
   ],
   "source": [
    "pwd"
   ]
  },
  {
   "cell_type": "code",
   "execution_count": 8,
   "metadata": {},
   "outputs": [],
   "source": [
    "x.close()"
   ]
  },
  {
   "cell_type": "code",
   "execution_count": 9,
   "metadata": {},
   "outputs": [],
   "source": [
    "with open('shivam.txt') as n:\n",
    "    new=n.read()"
   ]
  },
  {
   "cell_type": "code",
   "execution_count": 10,
   "metadata": {},
   "outputs": [
    {
     "data": {
      "text/plain": [
       "'this is my new file\\nlol\\n'"
      ]
     },
     "execution_count": 10,
     "metadata": {},
     "output_type": "execute_result"
    }
   ],
   "source": [
    "new"
   ]
  },
  {
   "cell_type": "code",
   "execution_count": null,
   "metadata": {},
   "outputs": [],
   "source": [
    "-1pen('shivam.txt')"
   ]
  },
  {
   "cell_type": "code",
   "execution_count": null,
   "metadata": {},
   "outputs": [
    {
     "name": "stdout",
     "output_type": "stream",
     "text": [
      "-1\n",
      "-2\n"
     ]
    }
   ],
   "source": [
    "x1=int(input())\n",
    "x2=int(input())\n",
    "x3=int(input())\n",
    "r=int(input())\n",
    "l1=[]\n",
    "l2=[]\n",
    "for i in range(x1,x2+1):\n",
    "     l1.append(i)\n",
    "print(l1)\n",
    "for i in range(x3-r,x3+r):\n",
    "     l2.append(i)\n",
    "print(l2)"
   ]
  },
  {
   "cell_type": "code",
   "execution_count": 17,
   "metadata": {},
   "outputs": [
    {
     "name": "stdout",
     "output_type": "stream",
     "text": [
      "[[-0.2681883   0.11412268  0.03566334]\n",
      " [ 0.38944365 -0.20827389  0.05991441]\n",
      " [ 0.11982882  0.0128388  -0.05848787]]\n",
      "[[-0.2681883   0.11412268  0.03566334]\n",
      " [ 0.38944365 -0.20827389  0.05991441]\n",
      " [ 0.11982882  0.0128388  -0.05848787]]\n"
     ]
    }
   ],
   "source": [
    "import numpy as np\n",
    "  \n",
    "# Taking a 3 * 3 matrix\n",
    "A = np.array([[6, 24, 1],\n",
    "              [13, 16, 10],\n",
    "              [20, 17, 15]])\n",
    "A2= np.array([[8, 5, 10],\n",
    "              [21, 8, 21],\n",
    "              [21, 12, 8]])\n",
    "  \n",
    "# Calculating the inverse of the matrix\n",
    "B=(np.linalg.inv(A2))\n",
    "print(B)\n",
    "for i in range(3):\n",
    "    for j in range(3):\n",
    "        B[i][j]=(B[i][j])\n",
    "print(B)\n",
    "    "
   ]
  },
  {
   "cell_type": "code",
   "execution_count": null,
   "metadata": {},
   "outputs": [],
   "source": []
  },
  {
   "cell_type": "code",
   "execution_count": null,
   "metadata": {},
   "outputs": [],
   "source": []
  }
 ],
 "metadata": {
  "kernelspec": {
   "display_name": "Python 3",
   "language": "python",
   "name": "python3"
  },
  "language_info": {
   "codemirror_mode": {
    "name": "ipython",
    "version": 3
   },
   "file_extension": ".py",
   "mimetype": "text/x-python",
   "name": "python",
   "nbconvert_exporter": "python",
   "pygments_lexer": "ipython3",
   "version": "3.6.5"
  }
 },
 "nbformat": 4,
 "nbformat_minor": 4
}
