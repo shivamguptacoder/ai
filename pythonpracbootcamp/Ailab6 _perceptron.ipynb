{
 "cells": [
  {
   "cell_type": "markdown",
   "metadata": {},
   "source": [
    "                                             # Practical -06\n",
    "B-76 SHIVAM GUPTA\n"
   ]
  },
  {
   "cell_type": "markdown",
   "metadata": {},
   "source": [
    "Aim:- Write a program to implement perceptron learning algorithm for two input AND, OR, NAND and NOR gate classification. Initialize weights randomly in 1 to 10. Use similar initial weights for learning all the GATE classifications. Display number of iterations required in each case."
   ]
  },
  {
   "cell_type": "code",
   "execution_count": 2,
   "metadata": {},
   "outputs": [],
   "source": [
    "from random import randint"
   ]
  },
  {
   "cell_type": "code",
   "execution_count": 3,
   "metadata": {},
   "outputs": [],
   "source": [
    "def getWX(w, x):\n",
    "    res = 0\n",
    "\n",
    "    for i in range(3):\n",
    "        res += w[i]*x[i]\n",
    "\n",
    "    return res\n",
    "\n",
    "def getSign(x):\n",
    "    if x>0:\n",
    "        return 1\n",
    "    return -1"
   ]
  },
  {
   "cell_type": "code",
   "execution_count": 4,
   "metadata": {},
   "outputs": [],
   "source": [
    "def genTable(weights, truthTable):\n",
    "    print(\"Truth Table -\")\n",
    "    for i in range(4):\n",
    "        t = truthTable[i][:2] + [1]\n",
    "        res = getSign(getWX(weights, t))\n",
    "        print(*[truthTable[i][0], truthTable[i][1], res], sep = ' | ')\n",
    "    print('\\n')"
   ]
  },
  {
   "cell_type": "code",
   "execution_count": 5,
   "metadata": {},
   "outputs": [],
   "source": [
    "def PerceptronLearning(weights, truthTable):\n",
    "    epoch = 1\n",
    "    while(1):\n",
    "\n",
    "        zerodW = 0\n",
    "        for i in range(4):\n",
    "            x = truthTable[i][:2] + [1]\n",
    "            net = getWX(weights, x)\n",
    "            activation = getSign(net)\n",
    "            expected = truthTable[i][-1]\n",
    "            delta_w = [(expected - activation)*x[i] for i in range(3)]\n",
    "\n",
    "            weights = [weights[i] + delta_w[i] for i in range(3)]\n",
    "\n",
    "            if (expected == activation):\n",
    "                zerodW += 1\n",
    "\n",
    "        if zerodW == 4:\n",
    "            break\n",
    "\n",
    "        epoch += 1\n",
    "\n",
    "    print(\"\\nTotal Epochs =\", epoch)\n",
    "    return weights"
   ]
  },
  {
   "cell_type": "code",
   "execution_count": 6,
   "metadata": {},
   "outputs": [],
   "source": [
    "truthTableAnd   = [[-1,-1,-1], [-1,1,-1], [1,-1,-1], [1,1,1]]\n",
    "truthTableOr    = [[-1,-1,-1], [-1,1,1],  [1,-1,1],  [1,1,1]]\n",
    "truthTableNor   = [[-1,-1,1],  [-1,1,-1], [1,-1,-1], [1,1,-1]]\n",
    "truthTableNand  = [[-1,-1,1],  [-1,1,1],  [1,-1,1],  [1,1,-1]]"
   ]
  },
  {
   "cell_type": "code",
   "execution_count": 7,
   "metadata": {},
   "outputs": [
    {
     "name": "stdout",
     "output_type": "stream",
     "text": [
      "\n",
      "Initial Weights - [8, 1, 6] \n",
      "\n",
      "--------------- AND Gate ---------------\n",
      "\n",
      "Total Epochs = 4\n",
      "Final Weights - [4, 5, -2] \n",
      "\n",
      "Truth Table -\n",
      "-1 | -1 | -1\n",
      "-1 | 1 | -1\n",
      "1 | -1 | -1\n",
      "1 | 1 | 1\n",
      "\n",
      "\n",
      "--------------- OR Gate ---------------\n",
      "\n",
      "Total Epochs = 2\n",
      "Final Weights - [6, 3, 8] \n",
      "\n",
      "Truth Table -\n",
      "-1 | -1 | -1\n",
      "-1 | 1 | 1\n",
      "1 | -1 | 1\n",
      "1 | 1 | 1\n",
      "\n",
      "\n",
      "--------------- NAND Gate ---------------\n",
      "\n",
      "Total Epochs = 4\n",
      "Final Weights - [-2, -5, 4] \n",
      "\n",
      "Truth Table -\n",
      "-1 | -1 | 1\n",
      "-1 | 1 | 1\n",
      "1 | -1 | 1\n",
      "1 | 1 | -1\n",
      "\n",
      "\n",
      "--------------- NOR Gate ---------------\n",
      "\n",
      "Total Epochs = 5\n",
      "Final Weights - [-4, -3, -2] \n",
      "\n",
      "Truth Table -\n",
      "-1 | -1 | 1\n",
      "-1 | 1 | -1\n",
      "1 | -1 | -1\n",
      "1 | 1 | -1\n",
      "\n",
      "\n"
     ]
    }
   ],
   "source": [
    "initialWeights = [randint(1, 10) for _ in range(3)]\n",
    "print(\"\\nInitial Weights -\", initialWeights, '\\n')\n",
    "\n",
    "print('-'*15, \"AND Gate\", '-'*15)\n",
    "finalWeightsAnd = PerceptronLearning(initialWeights, truthTableAnd)\n",
    "print('Final Weights -', finalWeightsAnd, '\\n')\n",
    "genTable(finalWeightsAnd, truthTableAnd)\n",
    "\n",
    "print('-'*15, \"OR Gate\", '-'*15)\n",
    "finalWeightsOr = PerceptronLearning(initialWeights, truthTableOr)\n",
    "print('Final Weights -', finalWeightsOr, '\\n')\n",
    "genTable(finalWeightsOr, truthTableOr)\n",
    "\n",
    "print('-'*15, \"NAND Gate\", '-'*15)\n",
    "finalWeightsNand = PerceptronLearning(initialWeights, truthTableNand)\n",
    "print('Final Weights -', finalWeightsNand, '\\n')\n",
    "genTable(finalWeightsNand, truthTableNand)\n",
    "\n",
    "print('-'*15, \"NOR Gate\", '-'*15)\n",
    "finalWeightsNor = PerceptronLearning(initialWeights, truthTableNor)\n",
    "print('Final Weights -', finalWeightsNor, '\\n')\n",
    "genTable(finalWeightsNor, truthTableNor)"
   ]
  }
 ],
 "metadata": {
  "interpreter": {
   "hash": "621abb3bd86ecd4dc0b57edfdf16b56a7236c46666040b536e322b0583a835ef"
  },
  "kernelspec": {
   "display_name": "Python 3",
   "language": "python",
   "name": "python3"
  },
  "language_info": {
   "codemirror_mode": {
    "name": "ipython",
    "version": 3
   },
   "file_extension": ".py",
   "mimetype": "text/x-python",
   "name": "python",
   "nbconvert_exporter": "python",
   "pygments_lexer": "ipython3",
   "version": "3.6.5"
  }
 },
 "nbformat": 4,
 "nbformat_minor": 2
}
