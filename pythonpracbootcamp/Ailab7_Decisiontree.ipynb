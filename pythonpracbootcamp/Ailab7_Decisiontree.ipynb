{
 "cells": [
  {
   "cell_type": "markdown",
   "metadata": {},
   "source": [
    "                                                  # Practical -07\n",
    "B-76 \n",
    "SHIVAM GUPTA \n"
   ]
  },
  {
   "cell_type": "markdown",
   "metadata": {},
   "source": [
    "Problem statement : Write a program to implement Decision Tree Algorithm. Your aim is to find root node of decision tree for the given dataset."
   ]
  },
  {
   "cell_type": "code",
   "execution_count": 1,
   "metadata": {},
   "outputs": [],
   "source": [
    "from math import log2"
   ]
  },
  {
   "cell_type": "code",
   "execution_count": 2,
   "metadata": {},
   "outputs": [],
   "source": [
    "data = {\n",
    "    'D1':{'Outlook':'Sunny','Temp':'Hot','Humidity':'High','Wind':'Weak','PlayTennis':'No'},\n",
    "    'D2':{'Outlook':'Sunny','Temp':'Hot','Humidity':'High','Wind':'Strong','PlayTennis':'No'},\n",
    "    'D3':{'Outlook':'Overcast','Temp':'Hot','Humidity':'High','Wind':'Weak','PlayTennis':'Yes'},\n",
    "    'D4':{'Outlook':'Rain','Temp':'Mild','Humidity':'High','Wind':'Weak','PlayTennis':'Yes'},\n",
    "    'D5':{'Outlook':'Rain','Temp':'Cool','Humidity':'Normal','Wind':'Weak','PlayTennis':'Yes'},\n",
    "    'D6':{'Outlook':'Rain','Temp':'Cool','Humidity':'Normal','Wind':'Strong','PlayTennis':'No'},\n",
    "    'D7':{'Outlook':'Overcast','Temp':'Cool','Humidity':'Normal','Wind':'Strong','PlayTennis':'Yes'},\n",
    "    'D8':{'Outlook':'Sunny','Temp':'Mild','Humidity':'High','Wind':'Weak','PlayTennis':'No'},\n",
    "    'D9':{'Outlook':'Sunny','Temp':'Cool','Humidity':'Normal','Wind':'Weak','PlayTennis':'Yes'},\n",
    "    'D10':{'Outlook':'Rain','Temp':'Mild','Humidity':'Normal','Wind':'Weak','PlayTennis':'Yes'},\n",
    "    'D11':{'Outlook':'Sunny','Temp':'Mild','Humidity':'Normal','Wind':'Strong','PlayTennis':'Yes'},\n",
    "    'D12':{'Outlook':'Overcast','Temp':'Mild','Humidity':'High','Wind':'Strong','PlayTennis':'Yes'},\n",
    "    'D13':{'Outlook':'Overcast','Temp':'Hot','Humidity':'Normal','Wind':'Weak','PlayTennis':'Yes'},\n",
    "    'D14':{'Outlook':'Rain','Temp':'Mild','Humidity':'High','Wind':'Strong','PlayTennis':'No'}\n",
    "}"
   ]
  },
  {
   "cell_type": "code",
   "execution_count": 3,
   "metadata": {},
   "outputs": [
    {
     "name": "stdout",
     "output_type": "stream",
     "text": [
      "0.94\n"
     ]
    }
   ],
   "source": [
    "# Calculating total entropy of the whole dataset\n",
    "p=0\n",
    "n=0\n",
    "j=len(data)\n",
    "for key in data:\n",
    "    if data[key]['PlayTennis']=='Yes':\n",
    "        p+=1\n",
    "    else:\n",
    "        n+=1\n",
    "\n",
    "e_total = - (p/j)*log2(p/j) - (n/j)*log2(n/j)\n",
    "print(round(e_total,2))\n"
   ]
  },
  {
   "cell_type": "code",
   "execution_count": 4,
   "metadata": {},
   "outputs": [
    {
     "name": "stdout",
     "output_type": "stream",
     "text": [
      "Outlook : Sunny Overcast Rain\n",
      "Temp : Hot Mild Cool\n",
      "Humidity : High Normal\n",
      "Wind : Weak Strong\n",
      "Outlook [0.971, 0, 0.971]\n",
      "\t [5, 4, 5]\n",
      "Temp [1.0, 0.9183, 0.8113]\n",
      "\t [4, 6, 4]\n",
      "Humidity [0.9852, 0.5917]\n",
      "\t [7, 7]\n",
      "Wind [0.8113, 1.0]\n",
      "\t [8, 6]\n"
     ]
    }
   ],
   "source": [
    "attribute = ['Outlook','Temp','Humidity','Wind']\n",
    "en = {}\n",
    "\n",
    "for att in attribute:\n",
    "    l=[]\n",
    "    for key in data:\n",
    "        if data[key][att] not in l:\n",
    "            l.append(data[key][att])\n",
    "    en[att]=l\n",
    "\n",
    "for i in en:\n",
    "    print(i,':',*en[i])\n",
    "\n",
    "entropy={}\n",
    "ent = {}\n",
    "for i in en:\n",
    "    l=[]\n",
    "    k=[]\n",
    "    for x in en[i]:\n",
    "        p=0\n",
    "        n=0\n",
    "        for key in data:\n",
    "            if data[key][i] == x and data[key]['PlayTennis']  == 'Yes':\n",
    "                p+=1\n",
    "            elif data[key][i] == x and data[key]['PlayTennis']  == 'No':\n",
    "                n+=1\n",
    "        \n",
    "        j=n+p\n",
    "        if p==0 or n==0:\n",
    "            q=0\n",
    "        else :\n",
    "            q = -(p/j)*log2(p/j) -(n/j)*log2(n/j)\n",
    "        q = round(q,4)\n",
    "        l.append(q)\n",
    "        k.append(j)\n",
    "    entropy[i]=l\n",
    "    ent[i]=k\n",
    "\n",
    "for i in entropy:\n",
    "    print(i,entropy[i])\n",
    "    print('\\t',ent[i])\n"
   ]
  },
  {
   "cell_type": "code",
   "execution_count": 5,
   "metadata": {},
   "outputs": [
    {
     "name": "stdout",
     "output_type": "stream",
     "text": [
      "Outlook 0.2467\n",
      "Temp 0.0292\n",
      "Humidity 0.1518\n",
      "Wind 0.0481\n",
      "\n",
      "Root node is Outlook\n"
     ]
    }
   ],
   "source": [
    "gain={}\n",
    "\n",
    "l_data = len(data)\n",
    "for i in entropy:\n",
    "    j=e_total\n",
    "    for x in range(len(entropy[i])):\n",
    "        j-=(ent[i][x]/l_data)*entropy[i][x]\n",
    "    gain[i] = round(j,4)\n",
    "\n",
    "k=0\n",
    "for i in gain:\n",
    "\n",
    "    if gain[i]>k:\n",
    "        j=i\n",
    "        k=gain[i]\n",
    "\n",
    "for i in gain:\n",
    "    print(i,gain[i])\n",
    "\n",
    "print('\\nRoot node is '+ j)\n"
   ]
  },
  {
   "cell_type": "code",
   "execution_count": null,
   "metadata": {},
   "outputs": [],
   "source": []
  }
 ],
 "metadata": {
  "kernelspec": {
   "display_name": "Python 3",
   "language": "python",
   "name": "python3"
  },
  "language_info": {
   "codemirror_mode": {
    "name": "ipython",
    "version": 3
   },
   "file_extension": ".py",
   "mimetype": "text/x-python",
   "name": "python",
   "nbconvert_exporter": "python",
   "pygments_lexer": "ipython3",
   "version": "3.6.5"
  }
 },
 "nbformat": 4,
 "nbformat_minor": 2
}
