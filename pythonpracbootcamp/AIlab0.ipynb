{
 "cells": [
  {
   "cell_type": "code",
   "execution_count": 1,
   "metadata": {},
   "outputs": [
    {
     "name": "stdout",
     "output_type": "stream",
     "text": [
      "4\n",
      "4 * 1  =  4\n",
      "4 * 2  =  8\n",
      "4 * 3  =  12\n",
      "4 * 4  =  16\n",
      "4 * 5  =  20\n",
      "4 * 6  =  24\n",
      "4 * 7  =  28\n",
      "4 * 8  =  32\n",
      "4 * 9  =  36\n",
      "4 * 10  =  40\n"
     ]
    }
   ],
   "source": [
    "x=int(input())\n",
    "for i in range(1,11):\n",
    "    print(f'{x} * {i}  =  {x*i}')"
   ]
  },
  {
   "cell_type": "code",
   "execution_count": 2,
   "metadata": {},
   "outputs": [
    {
     "name": "stdout",
     "output_type": "stream",
     "text": [
      "5\n"
     ]
    },
    {
     "data": {
      "text/plain": [
       "120"
      ]
     },
     "execution_count": 2,
     "metadata": {},
     "output_type": "execute_result"
    }
   ],
   "source": [
    "def fact(x):\n",
    "    if(x<=1):return 1\n",
    "    return fact(x-1)*x\n",
    "\n",
    "x=int(input())\n",
    "fact(x)"
   ]
  },
  {
   "cell_type": "code",
   "execution_count": 17,
   "metadata": {},
   "outputs": [
    {
     "name": "stdout",
     "output_type": "stream",
     "text": [
      "Popped item is 5\n",
      "Popped item is 4\n",
      "Elements in the stack are: \n",
      "76 122 "
     ]
    }
   ],
   "source": [
    "#stack in python\n",
    "stk=[]\n",
    "top=None \n",
    "\n",
    "def isEmpty():\n",
    "   if stk==[]:\n",
    "      return True\n",
    "   else:\n",
    "      return False\n",
    "\n",
    "def Push(item):\n",
    "   stk.append(item)\n",
    "   top=len(stk)-1\n",
    "\n",
    "def Pop():\n",
    "   if isEmpty(): \n",
    "      print(\"Underflow\")\n",
    "   else: \n",
    "      item=stk.pop()\n",
    "      if len(stk)==0:\n",
    "         top=None\n",
    "      else:\n",
    "         top=len(stk)\n",
    "         print(\"Popped item is \"+str(item))\n",
    "\n",
    "def Display():\n",
    "   if isEmpty():\n",
    "      print(\"Stack is empty\")\n",
    "   else:\n",
    "      top=len(stk)-1\n",
    "      print(\"Elements in the stack are: \")\n",
    "      for i in range(top,-1,-1):\n",
    "         print(stk[i],end=\" \")\n",
    "\n",
    "\n",
    "\n",
    "  \n",
    "Push(122)\n",
    "Push(76)\n",
    "Push(4)\n",
    "Push(5)\n",
    "Pop()\n",
    "Pop()\n",
    "Display()"
   ]
  },
  {
   "cell_type": "code",
   "execution_count": 21,
   "metadata": {},
   "outputs": [
    {
     "name": "stdout",
     "output_type": "stream",
     "text": [
      "Elements on queue are:\n",
      "79->78->77->"
     ]
    }
   ],
   "source": [
    "#queue in python\n",
    "queue=[]\n",
    "\n",
    "def enqueue(data):\n",
    "   queue.insert(0,data)\n",
    "\n",
    "def dequeue():\n",
    "   if len(queue)>0:\n",
    "      return queue.pop()\n",
    "   return (\"Queue Empty!\")\n",
    "\n",
    "def display():\n",
    "   print(\"Elements on queue are:\");\n",
    "   for i in range(len(queue)):\n",
    "      print(queue[i],end=\"->\")\n",
    "\n",
    "\n",
    "\n",
    "enqueue(76)\n",
    "enqueue(77)\n",
    "enqueue(78)\n",
    "enqueue(79)\n",
    "dequeue()\n",
    "display()"
   ]
  },
  {
   "cell_type": "code",
   "execution_count": null,
   "metadata": {},
   "outputs": [],
   "source": []
  },
  {
   "cell_type": "code",
   "execution_count": 49,
   "metadata": {},
   "outputs": [
    {
     "name": "stdout",
     "output_type": "stream",
     "text": [
      "Inorder is: \n",
      "10 14 19 27 31 35 \n",
      "Postorder is:\n",
      "10 19 14 31 35 27 \n",
      "Preorder is:\n",
      "27 14 10 19 35 31 "
     ]
    },
    {
     "data": {
      "text/plain": [
       "10"
      ]
     },
     "execution_count": 49,
     "metadata": {},
     "output_type": "execute_result"
    }
   ],
   "source": [
    "#tree in python\n",
    "class Node:\n",
    "\n",
    "    def __init__(self, data):\n",
    "\n",
    "        self.left = None\n",
    "        self.right = None\n",
    "        self.data = data\n",
    "\n",
    "    def insert(self, data):\n",
    "# Compare the new value with the parent node\n",
    "        if self.data:\n",
    "            if data < self.data:\n",
    "                if self.left is None:\n",
    "                    self.left = Node(data)\n",
    "                else:\n",
    "                    self.left.insert(data)\n",
    "            elif data > self.data:\n",
    "                if self.right is None:\n",
    "                    self.right = Node(data)\n",
    "                else:\n",
    "                    self.right.insert(data)\n",
    "        else:\n",
    "            self.data = data\n",
    "\n",
    "# Print the tree\n",
    "    def Inorder(self):\n",
    "        if self.left:\n",
    "            self.left.Inorder()\n",
    "        print( self.data,end=\" \"),\n",
    "        if self.right:\n",
    "            self.right.Inorder()\n",
    "    def Preorder(self):\n",
    "        print( self.data,end=\" \"),\n",
    "        if self.left:\n",
    "            self.left.Preorder()\n",
    "        if self.right:\n",
    "            self.right.Preorder()\n",
    "    def Postorder(self):\n",
    "        if self.left:\n",
    "            self.left.Postorder()\n",
    "        if self.right:\n",
    "            self.right.Postorder()\n",
    "        print( self.data,end=\" \")\n",
    "\n",
    "def search(root,key):\n",
    "    if root is None:\n",
    "        return -1\n",
    "    if root.data == key:\n",
    "        return root.data\n",
    "    if root.data < key:\n",
    "        return search(root.right,key)\n",
    "    return search(root.left,key)\n",
    "\n",
    "\n",
    "# Use the insert method to add nodes\n",
    "root = Node(27)\n",
    "root.insert(14)\n",
    "root.insert(35)\n",
    "root.insert(31)\n",
    "root.insert(10)\n",
    "root.insert(19)\n",
    "\n",
    "\n",
    "print(\"Inorder is: \")\n",
    "root.Inorder()\n",
    "print(\"\\nPostorder is:\")\n",
    "root.Postorder()\n",
    "print(\"\\nPreorder is:\")\n",
    "root.Preorder()\n",
    "\n",
    "search(temp,10)\n"
   ]
  },
  {
   "cell_type": "code",
   "execution_count": 57,
   "metadata": {},
   "outputs": [
    {
     "name": "stdout",
     "output_type": "stream",
     "text": [
      "Level of 1 is 3\n",
      "Level of 2 is 2\n",
      "Level of 3 is 1\n",
      "Level of 4 is 3\n",
      "Level of 5 is 2\n"
     ]
    }
   ],
   "source": [
    "\n",
    "\n",
    "def getLevelUtil(node, data, level):\n",
    "    if (node == None):\n",
    "        return 0\n",
    "\n",
    "    if (node.data == data):\n",
    "        return level\n",
    "\n",
    "    downlevel = getLevelUtil(node.left,\n",
    "                             data, level + 1)\n",
    "    if (downlevel != 0):\n",
    "        return downlevel\n",
    "\n",
    "    downlevel = getLevelUtil(node.right,\n",
    "                             data, level + 1)\n",
    "    return downlevel\n",
    "\n",
    "def getLevel(node, data):\n",
    "\n",
    "    return getLevelUtil(node, data, 1)\n",
    "\n",
    "\n",
    "# Driver Code\n",
    "if __name__ == '__main__':\n",
    "    root2 = Node(3)\n",
    "    root2.insert(1)\n",
    "    root2.insert(2)\n",
    "    root2.insert(4)\n",
    "    root2.insert(5)\n",
    "    root2.insert(6)\n",
    "\n",
    "    for x in range(1, 6):\n",
    "        level = getLevel(root, x)\n",
    "        if (level):\n",
    "            print(\"Level of\", x,\n",
    "                  \"is\", getLevel(root, x))\n",
    "        else:\n",
    "            print(x, \"is not present in tree\")"
   ]
  },
  {
   "cell_type": "code",
   "execution_count": null,
   "metadata": {},
   "outputs": [],
   "source": []
  }
 ],
 "metadata": {
  "kernelspec": {
   "display_name": "Python 3",
   "language": "python",
   "name": "python3"
  },
  "language_info": {
   "codemirror_mode": {
    "name": "ipython",
    "version": 3
   },
   "file_extension": ".py",
   "mimetype": "text/x-python",
   "name": "python",
   "nbconvert_exporter": "python",
   "pygments_lexer": "ipython3",
   "version": "3.6.5"
  }
 },
 "nbformat": 4,
 "nbformat_minor": 2
}
