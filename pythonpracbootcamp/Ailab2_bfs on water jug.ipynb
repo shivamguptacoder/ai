{
 "cells": [
  {
   "cell_type": "markdown",
   "metadata": {},
   "source": [
    "                                               ```# Practical -02\n",
    "B-76 \n",
    "SHIVAM GUPTA \n"
   ]
  },
  {
   "cell_type": "markdown",
   "metadata": {},
   "source": [
    "Problem Statement :\n",
    "Write a program to implement Breadth First Search to solve Two-water jug problem"
   ]
  },
  {
   "cell_type": "markdown",
   "metadata": {},
   "source": [
    "Recursive Approach:"
   ]
  },
  {
   "cell_type": "code",
   "execution_count": 11,
   "metadata": {},
   "outputs": [
    {
     "name": "stdout",
     "output_type": "stream",
     "text": [
      "JUG1\tJUG2\n",
      "0\t0\n",
      "3\t0\n",
      "0\t3\n",
      "3\t3\n",
      "2\t4\n",
      "0\t2\n"
     ]
    }
   ],
   "source": [
    "def pour(jug1, jug2):\n",
    "    max1, max2, fill = 3,4, 2  #Change maximum capacity and final capacity\n",
    "    print(\"%d\\t%d\" % (jug1, jug2))\n",
    "    if jug2 is fill:\n",
    "        return\n",
    "    elif jug2 is max2:\n",
    "        pour(0, jug1)\n",
    "    elif jug1 != 0 and jug2 is 0:\n",
    "        pour(0, jug1)\n",
    "    elif jug1 is fill:\n",
    "        pour(jug1, 0)\n",
    "    elif jug1 < max1:\n",
    "        pour(max1, jug2)\n",
    "    elif jug1 < (max2-jug2):\n",
    "        pour(0, (jug1+jug2))\n",
    "    else:\n",
    "        pour(jug1-(max2-jug2), (max2-jug2)+jug2)\n",
    " \n",
    "print(\"JUG1\\tJUG2\")\n",
    "pour(0, 0)"
   ]
  },
  {
   "cell_type": "markdown",
   "metadata": {},
   "source": [
    "BFS approach:"
   ]
  },
  {
   "cell_type": "code",
   "execution_count": 44,
   "metadata": {},
   "outputs": [
    {
     "name": "stdout",
     "output_type": "stream",
     "text": [
      "Solution for water jug problem\n",
      "Enter Jug 1 capacity:4\n",
      "Enter Jug 2 capacity:3\n",
      "Enter target volume:2\n",
      "The States of Jug1 to Jug2 are\n",
      "[0, 0]\n",
      "[0, 3]\n",
      "[3, 0]\n",
      "[3, 3]\n",
      "[4, 2]\n",
      "[0, 2]\n",
      "[2, 0]\n"
     ]
    }
   ],
   "source": [
    "def gcd(a, b):\n",
    "\tif a == 0:\n",
    "\t\treturn b\n",
    "\treturn gcd(b%a, a)\n",
    "\n",
    "def bfs(start, end, jug1, jug2):\n",
    "\tpath = []\n",
    "\tfront = []\n",
    "\tfront.append(start)\n",
    "\tvisited = []\n",
    "\t#visited.append(start)\n",
    "\twhile(not (not front)):\n",
    "\t\tcurrent = front.pop()\n",
    "\t\tx = current[0]\n",
    "\t\ty = current[1]\n",
    "\t\tpath.append(current)\n",
    "\t\tif x == end or y == end:\n",
    "\t\t\treturn path\n",
    "                                                                        #1 if jug1 not filled full\n",
    "\t\tif current[0] < jug1 and ([jug1, current[1]] not in visited):\n",
    "\t\t\tfront.append([jug1, current[1]])\n",
    "\t\t\tvisited.append([jug1, current[1]])\n",
    "\n",
    "                                                                        #2 if jug2 not filled full\n",
    "\t\tif current[1] < jug2 and ([current[0], jug2] not in visited):\n",
    "\t\t\tfront.append([current[0], jug2])\n",
    "\t\t\tvisited.append([current[0], jug2])\n",
    "\n",
    "                                                                        #3 if jug1 overflow empty it\n",
    "\t\tif current[0] > jug1 and ([0, current[1]] not in visited):\n",
    "\t\t\tfront.append([0, current[1]])\n",
    "\t\t\tvisited.append([0, current[1]])\n",
    "\n",
    "                                                                        #4 if jug1 overflow empty it\n",
    "\t\tif current[1] > jug2 and ([jug1, 0] not in visited):\n",
    "\t\t\tfront.append([jug1, 0])\n",
    "\t\t\tvisited.append([jug1, 0])\n",
    "\n",
    "                                                                        #5(x, y) -> (min(x + y, jug1), max(0, x + y - jug1)) if y > 0\n",
    "\t\tif current[1] > 0 and ([min(x + y, jug1), max(0, x + y - jug1)] not in visited):\n",
    "\t\t\tfront.append([min(x + y, jug1), max(0, x + y - jug1)])\n",
    "\t\t\tvisited.append([min(x + y, jug1), max(0, x + y - jug1)])\n",
    "\n",
    "                                                                        #6 (x, y) -> (max(0, x + y - jug2), min(x + y, jug2)) if x > 0\n",
    "\t\tif current[0] > 0  and ([max(0, x + y - jug2), min(x + y, jug2)] not in visited):\n",
    "\t\t\tfront.append([max(0, x + y - jug2), min(x + y, jug2)])\n",
    "\t\t\tvisited.append([max(0, x + y - jug2), min(x + y, jug2)])\n",
    "\n",
    "\treturn \"Not found\"\n",
    "\n",
    "\n",
    "\n",
    "start = [0, 0] \n",
    "\n",
    "\n",
    "print(\"Solution for water jug problem\")\n",
    "jug1 = int(input(\"Enter Jug 1 capacity:\"))\n",
    "jug2 = int(input(\"Enter Jug 2 capacity:\"))\n",
    "end = int(input(\"Enter target volume:\"))\n",
    "\n",
    "if end % gcd(jug1,jug2) == 0:\n",
    "    path=(bfs(start, end, jug1, jug2))\n",
    "    current = path[-1]\n",
    "    x = current[0]\n",
    "    y = current[1]\n",
    "    if(x==end):\n",
    "        path.append([end,0])\n",
    "    else:\n",
    "        path.append([0,end])\n",
    "        path.append([end,0])\n",
    "    print(\"The States of Jug1 to Jug2 are\")\n",
    "    print(*path, sep = \"\\n\")\n",
    "else:\n",
    "\tprint(\"No solution possible for this combination.\")"
   ]
  },
  {
   "cell_type": "code",
   "execution_count": null,
   "metadata": {},
   "outputs": [],
   "source": []
  }
 ],
 "metadata": {
  "kernelspec": {
   "display_name": "Python 3",
   "language": "python",
   "name": "python3"
  },
  "language_info": {
   "codemirror_mode": {
    "name": "ipython",
    "version": 3
   },
   "file_extension": ".py",
   "mimetype": "text/x-python",
   "name": "python",
   "nbconvert_exporter": "python",
   "pygments_lexer": "ipython3",
   "version": "3.6.5"
  }
 },
 "nbformat": 4,
 "nbformat_minor": 2
}
