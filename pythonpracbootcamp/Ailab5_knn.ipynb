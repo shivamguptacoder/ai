{
 "cells": [
  {
   "cell_type": "markdown",
   "metadata": {},
   "source": [
    "                                                  # Practical -05\n",
    "B-76 \n",
    "SHIVAM GUPTA \n"
   ]
  },
  {
   "cell_type": "markdown",
   "metadata": {},
   "source": [
    "Problem Statement : \n",
    "Write a program to implement K nearest neighbor algorithm. Randomly generate a data of 20 points having x and y values. Also assign positive values when  x or y component is below 26 and negative values to all other input data. Perform classification by using value of K=1,2,3,4,5."
   ]
  },
  {
   "cell_type": "code",
   "execution_count": 23,
   "metadata": {},
   "outputs": [],
   "source": [
    "import random\n",
    "def euclid_dist(ip,test):\n",
    "    li=[]\n",
    "    for i in range(0,len(ip)):\n",
    "        li.append([((test[0]-ip[i][0])**2+(test[1]-ip[i][1])**2)**0.5,i])\n",
    "    li.sort()\n",
    "    return li"
   ]
  },
  {
   "cell_type": "code",
   "execution_count": 24,
   "metadata": {},
   "outputs": [
    {
     "name": "stdout",
     "output_type": "stream",
     "text": [
      "[[91, 56, 1], [72, 17, 0], [33, 12, 0], [96, 80, 1], [64, 97, 1], [95, 44, 1], [64, 9, 0], [96, 11, 0], [3, 63, 0], [78, 27, 1], [78, 27, 1], [83, 95, 1], [35, 61, 1], [59, 40, 1], [22, 93, 0], [14, 29, 0], [48, 80, 1], [71, 63, 1], [58, 57, 1], [30, 45, 1], [32, 22, 0]]\n"
     ]
    }
   ],
   "source": [
    "# ipData=[[1,2,0],[3,4,0],[15,3,0],[18,5,1],[3,2,1],[6,8,1],[6,7,1],[7,8,0],[9,7,0],[10,5,1]]\n",
    "ipd=[]\n",
    "for i in range(0,21):\n",
    "    x=random.randint(1,100)\n",
    "    y=random.randint(1,100)\n",
    "    z=0\n",
    "    if(x<26 or y<26):\n",
    "        z=0\n",
    "    else:\n",
    "        z=1\n",
    "    ipd.append([x,y,z])\n",
    "print(ipd)\n",
    "ipData=ipd\n",
    "        "
   ]
  },
  {
   "cell_type": "code",
   "execution_count": 25,
   "metadata": {},
   "outputs": [],
   "source": [
    "test=[35,45]"
   ]
  },
  {
   "cell_type": "code",
   "execution_count": 26,
   "metadata": {},
   "outputs": [],
   "source": [
    "def kNear(ip,test,k):\n",
    "    li = euclid_dist(ip,test);\n",
    "    l=[]\n",
    "    for i in range(0,k):\n",
    "        l.append(ip[li[i][1]])\n",
    "    cnta=0\n",
    "    cntb=0\n",
    "    for i in l:\n",
    "        if i[2]==0:\n",
    "            cnta=cnta+1\n",
    "        else:\n",
    "            cntb=cntb+1\n",
    "    if(cnta>cntb):\n",
    "        return 0\n",
    "    else:\n",
    "        return 1\n"
   ]
  },
  {
   "cell_type": "code",
   "execution_count": 27,
   "metadata": {},
   "outputs": [
    {
     "name": "stdout",
     "output_type": "stream",
     "text": [
      "The class is 1\n",
      "The class is 1\n",
      "The class is 1\n",
      "The class is 1\n",
      "The class is 1\n"
     ]
    }
   ],
   "source": [
    "for k in range (1,6):  \n",
    "    ans=kNear(ipData,test,k)\n",
    "    if(ans==0):\n",
    "        print(\"The class is 0\")\n",
    "    else:\n",
    "        print(\"The class is 1\") "
   ]
  }
 ],
 "metadata": {
  "kernelspec": {
   "display_name": "Python 3",
   "language": "python",
   "name": "python3"
  },
  "language_info": {
   "codemirror_mode": {
    "name": "ipython",
    "version": 3
   },
   "file_extension": ".py",
   "mimetype": "text/x-python",
   "name": "python",
   "nbconvert_exporter": "python",
   "pygments_lexer": "ipython3",
   "version": "3.6.5"
  }
 },
 "nbformat": 4,
 "nbformat_minor": 2
}
